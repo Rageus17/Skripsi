{
 "cells": [
  {
   "cell_type": "code",
   "execution_count": 3,
   "id": "e12b3945-843b-4e0b-b352-8fb38c4ce347",
   "metadata": {},
   "outputs": [],
   "source": [
    "from datetime import datetime as dt\n",
    "import pandas as pd\n",
    "import pandas_ta as ta\n",
    "import numpy as np\n",
    "import torch\n",
    "import torch\n",
    "from torch import nn # nn contains all of PyTorch's building blocks for neural networks\n",
    "import matplotlib.pyplot as plt"
   ]
  },
  {
   "cell_type": "code",
   "execution_count": 4,
   "id": "9d6b06bf-9c12-4d35-b45d-09cb83dd39e3",
   "metadata": {
    "scrolled": true
   },
   "outputs": [],
   "source": [
    "df = pd.read_csv(\"/Users/stevenwinatamulia/Documents/skripsi-git//Documents/skripsi/ETHUSDT-4h-2020-2024.csv\",delimiter=';')"
   ]
  },
  {
   "cell_type": "code",
   "execution_count": 5,
   "id": "be286b79-95a1-45d0-9db1-7fe37b309c52",
   "metadata": {},
   "outputs": [],
   "source": [
    "#change timestamp into datetime\n",
    "def timestamp_to_datetime(timestamp:list)->list:\n",
    "    datetime = []\n",
    "    for i in timestamp:\n",
    "        datetime.append(dt.fromtimestamp(int(i)/1000))\n",
    "    return datetime\n",
    "\n",
    "df['open_time'] = timestamp_to_datetime(df['open_time'])\n",
    "df['close_time'] = timestamp_to_datetime(df['close_time'])\n",
    "df.index=df['open_time']"
   ]
  },
  {
   "cell_type": "markdown",
   "id": "81475e63-536f-4730-a006-e8c81fc36163",
   "metadata": {},
   "source": [
    "# feature engineering"
   ]
  },
  {
   "cell_type": "code",
   "execution_count": 6,
   "id": "f3292804-bdec-446a-a5b7-22054d8dc92b",
   "metadata": {},
   "outputs": [
    {
     "data": {
      "text/plain": [
       "Index(['open_time', 'open', 'high', 'low', 'close', 'volume', 'close_time',\n",
       "       'quote_volume', 'count', 'taker_buy_volume', 'taker_buy_quote_volume',\n",
       "       'ignore'],\n",
       "      dtype='object')"
      ]
     },
     "execution_count": 6,
     "metadata": {},
     "output_type": "execute_result"
    }
   ],
   "source": [
    "df.columns"
   ]
  },
  {
   "cell_type": "code",
   "execution_count": 7,
   "id": "792accab-0c92-4f65-8e7a-36e1b34d74b8",
   "metadata": {},
   "outputs": [],
   "source": [
    "df['SMA_50'] = ta.sma(df['close'], 50)\n",
    "df['RSI_14'] = ta.rsi(df['close'], 14)\n",
    "df['RSI_21'] = ta.rsi(df['close'],21)\n",
    "df['EMA_20'] = ta.ema(df['close'], 20)\n",
    "df['EMA_34'] = ta.ema(df['close'], 34)\n",
    "df = df.join(ta.bbands(df['close'], length=20, std=2))\n",
    "df = df.join(ta.macd(df['close'], fast=12, slow=26, signal=9))\n",
    "#df['BB_upper'], df['BB_middle'], df['BB_lower'] = ta.bbands(df['close'], length=20, std=2)\n",
    "#df['MACD'], df['MACD_signal'], df['MACD_hist'] = ta.macd(df['close'], fast=12, slow=26, signal=9)"
   ]
  },
  {
   "cell_type": "code",
   "execution_count": 8,
   "id": "c6b98233-6ac8-4e0a-80af-bf42171444fb",
   "metadata": {},
   "outputs": [],
   "source": [
    "df['SMA_50'] = ta.sma(df['close'], 50)\n",
    "df['RSI_14'] = ta.rsi(df['close'], 14)\n",
    "df['RSI_21'] = ta.rsi(df['close'],21)\n",
    "df['EMA_20'] = ta.ema(df['close'], 20)\n",
    "df['EMA_34'] = ta.ema(df['close'], 34)\n",
    "#df['BB_upper'], df['BB_middle'], df['BB_lower'] = ta.bbands(df['close'], length=20, std=2)\n",
    "# df['MACD'], df['MACD_signal'], df['MACD_hist'] = ta.macd(df['close'], fast=12, slow=26, signal=9)\n",
    "df_fix = df[[ 'open', 'high', 'low', 'close', 'volume','SMA_50', 'RSI_14', 'EMA_20','RSI_21','EMA_34']]"
   ]
  },
  {
   "cell_type": "code",
   "execution_count": 9,
   "id": "53acf78d-8727-489e-926d-7c2948f9e892",
   "metadata": {},
   "outputs": [
    {
     "data": {
      "text/html": [
       "<div>\n",
       "<style scoped>\n",
       "    .dataframe tbody tr th:only-of-type {\n",
       "        vertical-align: middle;\n",
       "    }\n",
       "\n",
       "    .dataframe tbody tr th {\n",
       "        vertical-align: top;\n",
       "    }\n",
       "\n",
       "    .dataframe thead th {\n",
       "        text-align: right;\n",
       "    }\n",
       "</style>\n",
       "<table border=\"1\" class=\"dataframe\">\n",
       "  <thead>\n",
       "    <tr style=\"text-align: right;\">\n",
       "      <th></th>\n",
       "      <th>BBL_31_2.0</th>\n",
       "      <th>BBM_31_2.0</th>\n",
       "      <th>BBU_31_2.0</th>\n",
       "      <th>BBB_31_2.0</th>\n",
       "      <th>BBP_31_2.0</th>\n",
       "    </tr>\n",
       "    <tr>\n",
       "      <th>open_time</th>\n",
       "      <th></th>\n",
       "      <th></th>\n",
       "      <th></th>\n",
       "      <th></th>\n",
       "      <th></th>\n",
       "    </tr>\n",
       "  </thead>\n",
       "  <tbody>\n",
       "    <tr>\n",
       "      <th>2020-01-01 07:00:00</th>\n",
       "      <td>NaN</td>\n",
       "      <td>NaN</td>\n",
       "      <td>NaN</td>\n",
       "      <td>NaN</td>\n",
       "      <td>NaN</td>\n",
       "    </tr>\n",
       "    <tr>\n",
       "      <th>2020-01-01 11:00:00</th>\n",
       "      <td>NaN</td>\n",
       "      <td>NaN</td>\n",
       "      <td>NaN</td>\n",
       "      <td>NaN</td>\n",
       "      <td>NaN</td>\n",
       "    </tr>\n",
       "    <tr>\n",
       "      <th>2020-01-01 15:00:00</th>\n",
       "      <td>NaN</td>\n",
       "      <td>NaN</td>\n",
       "      <td>NaN</td>\n",
       "      <td>NaN</td>\n",
       "      <td>NaN</td>\n",
       "    </tr>\n",
       "    <tr>\n",
       "      <th>2020-01-01 19:00:00</th>\n",
       "      <td>NaN</td>\n",
       "      <td>NaN</td>\n",
       "      <td>NaN</td>\n",
       "      <td>NaN</td>\n",
       "      <td>NaN</td>\n",
       "    </tr>\n",
       "    <tr>\n",
       "      <th>2020-01-01 23:00:00</th>\n",
       "      <td>NaN</td>\n",
       "      <td>NaN</td>\n",
       "      <td>NaN</td>\n",
       "      <td>NaN</td>\n",
       "      <td>NaN</td>\n",
       "    </tr>\n",
       "    <tr>\n",
       "      <th>...</th>\n",
       "      <td>...</td>\n",
       "      <td>...</td>\n",
       "      <td>...</td>\n",
       "      <td>...</td>\n",
       "      <td>...</td>\n",
       "    </tr>\n",
       "    <tr>\n",
       "      <th>2024-09-30 11:00:00</th>\n",
       "      <td>2584.613009</td>\n",
       "      <td>2647.771935</td>\n",
       "      <td>2710.930862</td>\n",
       "      <td>4.770723</td>\n",
       "      <td>0.412349</td>\n",
       "    </tr>\n",
       "    <tr>\n",
       "      <th>2024-09-30 15:00:00</th>\n",
       "      <td>2585.221383</td>\n",
       "      <td>2648.014839</td>\n",
       "      <td>2710.808294</td>\n",
       "      <td>4.742682</td>\n",
       "      <td>0.340391</td>\n",
       "    </tr>\n",
       "    <tr>\n",
       "      <th>2024-09-30 19:00:00</th>\n",
       "      <td>2581.890137</td>\n",
       "      <td>2647.006452</td>\n",
       "      <td>2712.122766</td>\n",
       "      <td>4.919997</td>\n",
       "      <td>0.101049</td>\n",
       "    </tr>\n",
       "    <tr>\n",
       "      <th>2024-09-30 23:00:00</th>\n",
       "      <td>2581.184728</td>\n",
       "      <td>2646.831935</td>\n",
       "      <td>2712.479143</td>\n",
       "      <td>4.960436</td>\n",
       "      <td>0.101339</td>\n",
       "    </tr>\n",
       "    <tr>\n",
       "      <th>2024-10-01 03:00:00</th>\n",
       "      <td>2586.191157</td>\n",
       "      <td>2647.857742</td>\n",
       "      <td>2709.524327</td>\n",
       "      <td>4.657847</td>\n",
       "      <td>0.124045</td>\n",
       "    </tr>\n",
       "  </tbody>\n",
       "</table>\n",
       "<p>10387 rows × 5 columns</p>\n",
       "</div>"
      ],
      "text/plain": [
       "                      BBL_31_2.0   BBM_31_2.0   BBU_31_2.0  BBB_31_2.0  \\\n",
       "open_time                                                                \n",
       "2020-01-01 07:00:00          NaN          NaN          NaN         NaN   \n",
       "2020-01-01 11:00:00          NaN          NaN          NaN         NaN   \n",
       "2020-01-01 15:00:00          NaN          NaN          NaN         NaN   \n",
       "2020-01-01 19:00:00          NaN          NaN          NaN         NaN   \n",
       "2020-01-01 23:00:00          NaN          NaN          NaN         NaN   \n",
       "...                          ...          ...          ...         ...   \n",
       "2024-09-30 11:00:00  2584.613009  2647.771935  2710.930862    4.770723   \n",
       "2024-09-30 15:00:00  2585.221383  2648.014839  2710.808294    4.742682   \n",
       "2024-09-30 19:00:00  2581.890137  2647.006452  2712.122766    4.919997   \n",
       "2024-09-30 23:00:00  2581.184728  2646.831935  2712.479143    4.960436   \n",
       "2024-10-01 03:00:00  2586.191157  2647.857742  2709.524327    4.657847   \n",
       "\n",
       "                     BBP_31_2.0  \n",
       "open_time                        \n",
       "2020-01-01 07:00:00         NaN  \n",
       "2020-01-01 11:00:00         NaN  \n",
       "2020-01-01 15:00:00         NaN  \n",
       "2020-01-01 19:00:00         NaN  \n",
       "2020-01-01 23:00:00         NaN  \n",
       "...                         ...  \n",
       "2024-09-30 11:00:00    0.412349  \n",
       "2024-09-30 15:00:00    0.340391  \n",
       "2024-09-30 19:00:00    0.101049  \n",
       "2024-09-30 23:00:00    0.101339  \n",
       "2024-10-01 03:00:00    0.124045  \n",
       "\n",
       "[10387 rows x 5 columns]"
      ]
     },
     "execution_count": 9,
     "metadata": {},
     "output_type": "execute_result"
    }
   ],
   "source": [
    "ta.bbands(df['close'], length=31, std=2)"
   ]
  },
  {
   "cell_type": "code",
   "execution_count": 10,
   "id": "779cc8ff-c915-4605-9c2e-56c7d61af3b8",
   "metadata": {},
   "outputs": [],
   "source": [
    "import numpy as np"
   ]
  },
  {
   "cell_type": "code",
   "execution_count": 11,
   "id": "fa719a22-59d1-4557-ad7e-bc3b8beeaf43",
   "metadata": {},
   "outputs": [],
   "source": [
    "log_ret = pd.DataFrame()\n",
    "log_ret['ret_close'] = np.log(df_fix.close) - np.log(df_fix.close.shift(1))\n",
    "log_ret['sma50'] = df_fix['SMA_50']\n",
    "log_ret['rsi14'] = df_fix['RSI_14']\n",
    "log_ret['ema20'] = df_fix['EMA_20']\n",
    "log_ret['rsi21'] = df_fix['RSI_21']\n",
    "log_ret['ema34'] = df_fix['EMA_34']\n",
    "log_ret = log_ret.join(ta.bbands(df['close'], length=30, std=2))\n",
    "log_ret = log_ret.join(ta.bbands(df['close'], length=31, std=2))\n",
    "log_ret = log_ret.join(ta.macd(df['close'], fast=12, slow=26, signal=9))\n",
    "log_ret = log_ret.dropna()"
   ]
  },
  {
   "cell_type": "code",
   "execution_count": 12,
   "id": "eeb6aa49-bc44-42d0-a811-2f35df97a3c6",
   "metadata": {},
   "outputs": [
    {
     "data": {
      "text/plain": [
       "19"
      ]
     },
     "execution_count": 12,
     "metadata": {},
     "output_type": "execute_result"
    }
   ],
   "source": [
    "log_ret.corr(method='spearman').iloc[0].shape[0]"
   ]
  },
  {
   "cell_type": "code",
   "execution_count": 13,
   "id": "40e56a10-ec15-4c72-aef5-52e6f58b8218",
   "metadata": {
    "scrolled": true
   },
   "outputs": [
    {
     "data": {
      "text/plain": [
       "ret_close        1.000000\n",
       "sma50           -0.028847\n",
       "rsi14            0.298451\n",
       "ema20           -0.026924\n",
       "rsi21            0.242974\n",
       "ema34           -0.027870\n",
       "BBL_30_2.0      -0.028151\n",
       "BBM_30_2.0      -0.028307\n",
       "BBU_30_2.0      -0.028107\n",
       "BBB_30_2.0       0.018476\n",
       "BBP_30_2.0       0.299018\n",
       "BBL_31_2.0      -0.028132\n",
       "BBM_31_2.0      -0.028291\n",
       "BBU_31_2.0      -0.028164\n",
       "BBB_31_2.0       0.017872\n",
       "BBP_31_2.0       0.293958\n",
       "MACD_12_26_9     0.048334\n",
       "MACDh_12_26_9    0.125265\n",
       "MACDs_12_26_9    0.009885\n",
       "Name: ret_close, dtype: float64"
      ]
     },
     "execution_count": 13,
     "metadata": {},
     "output_type": "execute_result"
    }
   ],
   "source": [
    "log_ret.corr(method='spearman').iloc[0]"
   ]
  },
  {
   "cell_type": "code",
   "execution_count": 14,
   "id": "bf193d8c-9c5d-42ef-a507-2b287caae224",
   "metadata": {},
   "outputs": [
    {
     "name": "stderr",
     "output_type": "stream",
     "text": [
      "/var/folders/_8/r2326rms4l37yskjs2yv3mv80000gn/T/ipykernel_1269/2321901921.py:3: FutureWarning: Series.__getitem__ treating keys as positions is deprecated. In a future version, integer keys will always be treated as labels (consistent with DataFrame behavior). To access a value by position, use `ser.iloc[pos]`\n",
      "  if np.abs(log_ret.corr(method='spearman').iloc[0][i]) >=0.1:\n"
     ]
    },
    {
     "name": "stdout",
     "output_type": "stream",
     "text": [
      "0\n",
      "2\n",
      "4\n",
      "10\n",
      "15\n",
      "17\n"
     ]
    }
   ],
   "source": [
    "correlation = []\n",
    "for i in range(log_ret.corr(method='spearman').iloc[0].shape[0]):\n",
    "    if np.abs(log_ret.corr(method='spearman').iloc[0][i]) >=0.1:\n",
    "        correlation.append(i)\n",
    "        print(i)"
   ]
  },
  {
   "cell_type": "code",
   "execution_count": 15,
   "id": "003116cf-da9a-4c16-ad2a-bf7769d334df",
   "metadata": {},
   "outputs": [
    {
     "name": "stderr",
     "output_type": "stream",
     "text": [
      "/var/folders/_8/r2326rms4l37yskjs2yv3mv80000gn/T/ipykernel_1269/579759620.py:1: FutureWarning: Series.__getitem__ treating keys as positions is deprecated. In a future version, integer keys will always be treated as labels (consistent with DataFrame behavior). To access a value by position, use `ser.iloc[pos]`\n",
      "  col_name = log_ret.corr(method='spearman').iloc[0][correlation].index\n"
     ]
    },
    {
     "data": {
      "text/plain": [
       "Index(['ret_close', 'rsi14', 'rsi21', 'BBP_30_2.0', 'BBP_31_2.0',\n",
       "       'MACDh_12_26_9'],\n",
       "      dtype='object')"
      ]
     },
     "execution_count": 15,
     "metadata": {},
     "output_type": "execute_result"
    }
   ],
   "source": [
    "col_name = log_ret.corr(method='spearman').iloc[0][correlation].index\n",
    "col_name"
   ]
  },
  {
   "cell_type": "markdown",
   "id": "a66034bc-7d34-41d2-a951-52857bec5a66",
   "metadata": {},
   "source": [
    "# Data Fix (after cleaning and engineering)"
   ]
  },
  {
   "cell_type": "code",
   "execution_count": 16,
   "id": "527ab464-7a88-48d5-a94a-4340963e69a3",
   "metadata": {},
   "outputs": [
    {
     "data": {
      "text/html": [
       "<div>\n",
       "<style scoped>\n",
       "    .dataframe tbody tr th:only-of-type {\n",
       "        vertical-align: middle;\n",
       "    }\n",
       "\n",
       "    .dataframe tbody tr th {\n",
       "        vertical-align: top;\n",
       "    }\n",
       "\n",
       "    .dataframe thead th {\n",
       "        text-align: right;\n",
       "    }\n",
       "</style>\n",
       "<table border=\"1\" class=\"dataframe\">\n",
       "  <thead>\n",
       "    <tr style=\"text-align: right;\">\n",
       "      <th></th>\n",
       "      <th>ret_close</th>\n",
       "      <th>rsi14</th>\n",
       "      <th>rsi21</th>\n",
       "      <th>BBP_30_2.0</th>\n",
       "      <th>BBP_31_2.0</th>\n",
       "      <th>MACDh_12_26_9</th>\n",
       "    </tr>\n",
       "    <tr>\n",
       "      <th>open_time</th>\n",
       "      <th></th>\n",
       "      <th></th>\n",
       "      <th></th>\n",
       "      <th></th>\n",
       "      <th></th>\n",
       "      <th></th>\n",
       "    </tr>\n",
       "  </thead>\n",
       "  <tbody>\n",
       "    <tr>\n",
       "      <th>2020-01-09 11:00:00</th>\n",
       "      <td>-0.000143</td>\n",
       "      <td>50.827852</td>\n",
       "      <td>53.502023</td>\n",
       "      <td>0.533342</td>\n",
       "      <td>0.545253</td>\n",
       "      <td>-0.758915</td>\n",
       "    </tr>\n",
       "    <tr>\n",
       "      <th>2020-01-09 15:00:00</th>\n",
       "      <td>-0.012225</td>\n",
       "      <td>46.592383</td>\n",
       "      <td>50.203579</td>\n",
       "      <td>0.395587</td>\n",
       "      <td>0.412719</td>\n",
       "      <td>-0.859642</td>\n",
       "    </tr>\n",
       "    <tr>\n",
       "      <th>2020-01-09 19:00:00</th>\n",
       "      <td>-0.000651</td>\n",
       "      <td>46.372073</td>\n",
       "      <td>50.032115</td>\n",
       "      <td>0.368387</td>\n",
       "      <td>0.390964</td>\n",
       "      <td>-0.900565</td>\n",
       "    </tr>\n",
       "    <tr>\n",
       "      <th>2020-01-09 23:00:00</th>\n",
       "      <td>-0.004281</td>\n",
       "      <td>44.874082</td>\n",
       "      <td>48.882925</td>\n",
       "      <td>0.298975</td>\n",
       "      <td>0.325386</td>\n",
       "      <td>-0.931715</td>\n",
       "    </tr>\n",
       "    <tr>\n",
       "      <th>2020-01-10 03:00:00</th>\n",
       "      <td>0.001453</td>\n",
       "      <td>45.516591</td>\n",
       "      <td>49.297440</td>\n",
       "      <td>0.293984</td>\n",
       "      <td>0.320568</td>\n",
       "      <td>-0.902566</td>\n",
       "    </tr>\n",
       "  </tbody>\n",
       "</table>\n",
       "</div>"
      ],
      "text/plain": [
       "                     ret_close      rsi14      rsi21  BBP_30_2.0  BBP_31_2.0  \\\n",
       "open_time                                                                      \n",
       "2020-01-09 11:00:00  -0.000143  50.827852  53.502023    0.533342    0.545253   \n",
       "2020-01-09 15:00:00  -0.012225  46.592383  50.203579    0.395587    0.412719   \n",
       "2020-01-09 19:00:00  -0.000651  46.372073  50.032115    0.368387    0.390964   \n",
       "2020-01-09 23:00:00  -0.004281  44.874082  48.882925    0.298975    0.325386   \n",
       "2020-01-10 03:00:00   0.001453  45.516591  49.297440    0.293984    0.320568   \n",
       "\n",
       "                     MACDh_12_26_9  \n",
       "open_time                           \n",
       "2020-01-09 11:00:00      -0.758915  \n",
       "2020-01-09 15:00:00      -0.859642  \n",
       "2020-01-09 19:00:00      -0.900565  \n",
       "2020-01-09 23:00:00      -0.931715  \n",
       "2020-01-10 03:00:00      -0.902566  "
      ]
     },
     "execution_count": 16,
     "metadata": {},
     "output_type": "execute_result"
    }
   ],
   "source": [
    "XY_data = log_ret[col_name]\n",
    "XY_data.head()"
   ]
  },
  {
   "cell_type": "code",
   "execution_count": 17,
   "id": "c8ba25e3-8202-4dd0-8fd3-50476512e96b",
   "metadata": {},
   "outputs": [
    {
     "data": {
      "image/png": "[encoded data removed]",
      "text/plain": [
       "<Figure size 640x480 with 1 Axes>"
      ]
     },
     "metadata": {},
     "output_type": "display_data"
    }
   ],
   "source": [
    "plt.hist(XY_data.ret_close,bins=100)\n",
    "plt.show(\n",
    ")"
   ]
  },
  {
   "cell_type": "code",
   "execution_count": 18,
   "id": "9f8740ac-0d9c-4812-8a90-4840126eabba",
   "metadata": {
    "scrolled": true
   },
   "outputs": [
    {
     "name": "stderr",
     "output_type": "stream",
     "text": [
      "/var/folders/_8/r2326rms4l37yskjs2yv3mv80000gn/T/ipykernel_1269/3419447890.py:1: SettingWithCopyWarning: \n",
      "A value is trying to be set on a copy of a slice from a DataFrame.\n",
      "Try using .loc[row_indexer,col_indexer] = value instead\n",
      "\n",
      "See the caveats in the documentation: https://pandas.pydata.org/pandas-docs/stable/user_guide/indexing.html#returning-a-view-versus-a-copy\n",
      "  XY_data['y'] = XY_data['ret_close'].shift(-1)\n"
     ]
    },
    {
     "data": {
      "text/html": [
       "<div>\n",
       "<style scoped>\n",
       "    .dataframe tbody tr th:only-of-type {\n",
       "        vertical-align: middle;\n",
       "    }\n",
       "\n",
       "    .dataframe tbody tr th {\n",
       "        vertical-align: top;\n",
       "    }\n",
       "\n",
       "    .dataframe thead th {\n",
       "        text-align: right;\n",
       "    }\n",
       "</style>\n",
       "<table border=\"1\" class=\"dataframe\">\n",
       "  <thead>\n",
       "    <tr style=\"text-align: right;\">\n",
       "      <th></th>\n",
       "      <th>log_return</th>\n",
       "      <th>rsi14</th>\n",
       "      <th>rsi21</th>\n",
       "      <th>BB30</th>\n",
       "      <th>BB31</th>\n",
       "      <th>MACD</th>\n",
       "      <th>y</th>\n",
       "    </tr>\n",
       "    <tr>\n",
       "      <th>open_time</th>\n",
       "      <th></th>\n",
       "      <th></th>\n",
       "      <th></th>\n",
       "      <th></th>\n",
       "      <th></th>\n",
       "      <th></th>\n",
       "      <th></th>\n",
       "    </tr>\n",
       "  </thead>\n",
       "  <tbody>\n",
       "    <tr>\n",
       "      <th>2024-09-30 11:00:00</th>\n",
       "      <td>0.003062</td>\n",
       "      <td>46.236617</td>\n",
       "      <td>50.622382</td>\n",
       "      <td>0.405491</td>\n",
       "      <td>0.412349</td>\n",
       "      <td>-6.855071</td>\n",
       "      <td>-0.003316</td>\n",
       "    </tr>\n",
       "    <tr>\n",
       "      <th>2024-09-30 15:00:00</th>\n",
       "      <td>-0.003316</td>\n",
       "      <td>43.949577</td>\n",
       "      <td>49.088132</td>\n",
       "      <td>0.336007</td>\n",
       "      <td>0.340391</td>\n",
       "      <td>-7.393437</td>\n",
       "      <td>-0.012606</td>\n",
       "    </tr>\n",
       "    <tr>\n",
       "      <th>2024-09-30 19:00:00</th>\n",
       "      <td>-0.012606</td>\n",
       "      <td>36.598073</td>\n",
       "      <td>43.828611</td>\n",
       "      <td>0.080785</td>\n",
       "      <td>0.101049</td>\n",
       "      <td>-9.526301</td>\n",
       "      <td>-0.000216</td>\n",
       "    </tr>\n",
       "    <tr>\n",
       "      <th>2024-09-30 23:00:00</th>\n",
       "      <td>-0.000216</td>\n",
       "      <td>36.486268</td>\n",
       "      <td>43.744894</td>\n",
       "      <td>0.044491</td>\n",
       "      <td>0.101339</td>\n",
       "      <td>-10.459905</td>\n",
       "      <td>0.002694</td>\n",
       "    </tr>\n",
       "    <tr>\n",
       "      <th>2024-10-01 03:00:00</th>\n",
       "      <td>0.002694</td>\n",
       "      <td>38.995063</td>\n",
       "      <td>45.120723</td>\n",
       "      <td>0.074759</td>\n",
       "      <td>0.124045</td>\n",
       "      <td>-10.086594</td>\n",
       "      <td>NaN</td>\n",
       "    </tr>\n",
       "  </tbody>\n",
       "</table>\n",
       "</div>"
      ],
      "text/plain": [
       "                     log_return      rsi14      rsi21      BB30      BB31  \\\n",
       "open_time                                                                   \n",
       "2024-09-30 11:00:00    0.003062  46.236617  50.622382  0.405491  0.412349   \n",
       "2024-09-30 15:00:00   -0.003316  43.949577  49.088132  0.336007  0.340391   \n",
       "2024-09-30 19:00:00   -0.012606  36.598073  43.828611  0.080785  0.101049   \n",
       "2024-09-30 23:00:00   -0.000216  36.486268  43.744894  0.044491  0.101339   \n",
       "2024-10-01 03:00:00    0.002694  38.995063  45.120723  0.074759  0.124045   \n",
       "\n",
       "                          MACD         y  \n",
       "open_time                                 \n",
       "2024-09-30 11:00:00  -6.855071 -0.003316  \n",
       "2024-09-30 15:00:00  -7.393437 -0.012606  \n",
       "2024-09-30 19:00:00  -9.526301 -0.000216  \n",
       "2024-09-30 23:00:00 -10.459905  0.002694  \n",
       "2024-10-01 03:00:00 -10.086594       NaN  "
      ]
     },
     "execution_count": 18,
     "metadata": {},
     "output_type": "execute_result"
    }
   ],
   "source": [
    "XY_data['y'] = XY_data['ret_close'].shift(-1)\n",
    "XY_data.columns = ['log_return','rsi14','rsi21','BB30','BB31','MACD','y']\n",
    "XY_data.tail()"
   ]
  },
  {
   "cell_type": "markdown",
   "id": "4d66b096-f942-4df5-bf96-5a396a624255",
   "metadata": {},
   "source": [
    "# very fix data\n",
    "\n",
    "XY_data"
   ]
  },
  {
   "cell_type": "code",
   "execution_count": 19,
   "id": "037342f5-3e0f-4be7-a78a-899c56e4f821",
   "metadata": {},
   "outputs": [],
   "source": [
    "import seaborn as sns"
   ]
  },
  {
   "cell_type": "code",
   "execution_count": 20,
   "id": "5463069c-e346-4588-a91f-50ba3fd904b8",
   "metadata": {},
   "outputs": [
    {
     "data": {
      "text/html": [
       "<div>\n",
       "<style scoped>\n",
       "    .dataframe tbody tr th:only-of-type {\n",
       "        vertical-align: middle;\n",
       "    }\n",
       "\n",
       "    .dataframe tbody tr th {\n",
       "        vertical-align: top;\n",
       "    }\n",
       "\n",
       "    .dataframe thead th {\n",
       "        text-align: right;\n",
       "    }\n",
       "</style>\n",
       "<table border=\"1\" class=\"dataframe\">\n",
       "  <thead>\n",
       "    <tr style=\"text-align: right;\">\n",
       "      <th></th>\n",
       "      <th>log_return</th>\n",
       "      <th>rsi14</th>\n",
       "      <th>rsi21</th>\n",
       "      <th>BB30</th>\n",
       "      <th>BB31</th>\n",
       "      <th>MACD</th>\n",
       "      <th>y</th>\n",
       "    </tr>\n",
       "  </thead>\n",
       "  <tbody>\n",
       "    <tr>\n",
       "      <th>log_return</th>\n",
       "      <td>0.454752</td>\n",
       "      <td>0.135516</td>\n",
       "      <td>0.110505</td>\n",
       "      <td>0.135971</td>\n",
       "      <td>0.133697</td>\n",
       "      <td>0.056844</td>\n",
       "      <td>-0.027285</td>\n",
       "    </tr>\n",
       "    <tr>\n",
       "      <th>rsi14</th>\n",
       "      <td>0.063337</td>\n",
       "      <td>0.212540</td>\n",
       "      <td>0.207439</td>\n",
       "      <td>0.204251</td>\n",
       "      <td>0.204676</td>\n",
       "      <td>0.110521</td>\n",
       "      <td>-0.002763</td>\n",
       "    </tr>\n",
       "    <tr>\n",
       "      <th>rsi21</th>\n",
       "      <td>0.055090</td>\n",
       "      <td>0.221265</td>\n",
       "      <td>0.226706</td>\n",
       "      <td>0.205622</td>\n",
       "      <td>0.206983</td>\n",
       "      <td>0.086148</td>\n",
       "      <td>-0.001814</td>\n",
       "    </tr>\n",
       "    <tr>\n",
       "      <th>BB30</th>\n",
       "      <td>0.062802</td>\n",
       "      <td>0.201848</td>\n",
       "      <td>0.190506</td>\n",
       "      <td>0.210040</td>\n",
       "      <td>0.209830</td>\n",
       "      <td>0.127914</td>\n",
       "      <td>-0.002941</td>\n",
       "    </tr>\n",
       "    <tr>\n",
       "      <th>BB31</th>\n",
       "      <td>0.061856</td>\n",
       "      <td>0.202609</td>\n",
       "      <td>0.192089</td>\n",
       "      <td>0.210183</td>\n",
       "      <td>0.210393</td>\n",
       "      <td>0.125815</td>\n",
       "      <td>-0.002946</td>\n",
       "    </tr>\n",
       "    <tr>\n",
       "      <th>MACD</th>\n",
       "      <td>0.038892</td>\n",
       "      <td>0.161792</td>\n",
       "      <td>0.118233</td>\n",
       "      <td>0.189484</td>\n",
       "      <td>0.186061</td>\n",
       "      <td>0.311139</td>\n",
       "      <td>-0.005600</td>\n",
       "    </tr>\n",
       "    <tr>\n",
       "      <th>y</th>\n",
       "      <td>-0.068729</td>\n",
       "      <td>-0.014891</td>\n",
       "      <td>-0.009164</td>\n",
       "      <td>-0.016037</td>\n",
       "      <td>-0.016037</td>\n",
       "      <td>-0.020619</td>\n",
       "      <td>1.145475</td>\n",
       "    </tr>\n",
       "  </tbody>\n",
       "</table>\n",
       "</div>"
      ],
      "text/plain": [
       "            log_return     rsi14     rsi21      BB30      BB31      MACD  \\\n",
       "log_return    0.454752  0.135516  0.110505  0.135971  0.133697  0.056844   \n",
       "rsi14         0.063337  0.212540  0.207439  0.204251  0.204676  0.110521   \n",
       "rsi21         0.055090  0.221265  0.226706  0.205622  0.206983  0.086148   \n",
       "BB30          0.062802  0.201848  0.190506  0.210040  0.209830  0.127914   \n",
       "BB31          0.061856  0.202609  0.192089  0.210183  0.210393  0.125815   \n",
       "MACD          0.038892  0.161792  0.118233  0.189484  0.186061  0.311139   \n",
       "y            -0.068729 -0.014891 -0.009164 -0.016037 -0.016037 -0.020619   \n",
       "\n",
       "                   y  \n",
       "log_return -0.027285  \n",
       "rsi14      -0.002763  \n",
       "rsi21      -0.001814  \n",
       "BB30       -0.002941  \n",
       "BB31       -0.002946  \n",
       "MACD       -0.005600  \n",
       "y           1.145475  "
      ]
     },
     "execution_count": 20,
     "metadata": {},
     "output_type": "execute_result"
    }
   ],
   "source": [
    "corr_matrix = round(XY_data.corr(method='spearman'), 3)\n",
    "normalized_corr_matrix = corr_matrix.div(corr_matrix.sum(axis=1), axis=0)\n",
    "normalized_corr_matrix"
   ]
  },
  {
   "cell_type": "code",
   "execution_count": 21,
   "id": "eac1743e-f591-47f3-9191-a2905cc97fe9",
   "metadata": {
    "scrolled": true
   },
   "outputs": [
    {
     "data": {
      "image/png": "[encoded data removed]",
      "text/plain": [
       "<Figure size 1000x800 with 2 Axes>"
      ]
     },
     "metadata": {},
     "output_type": "display_data"
    }
   ],
   "source": [
    "fig = plt.figure(figsize=(10, 8))  # Adjust size if needed\n",
    "sns.heatmap(round(XY_data.corr(method='spearman'), 3), annot=True,\n",
    "            cbar_kws={'label': 'Koefisien Korelasi Spearman'})\n",
    "\n",
    "plt.title('Korelasi Spearman Antar Variabel')\n",
    "\n",
    "plt.savefig(\"heatmap.png\", dpi=300, bbox_inches='tight')  # Saves as PNG"
   ]
  },
  {
   "cell_type": "code",
   "execution_count": 22,
   "id": "cffb166f-f3bd-41a3-b18c-3f27bba28056",
   "metadata": {},
   "outputs": [],
   "source": [
    "from scipy.stats import spearmanr"
   ]
  },
  {
   "cell_type": "code",
   "execution_count": 23,
   "id": "0109049e-f8bb-4b19-b630-22e8add178e4",
   "metadata": {},
   "outputs": [
    {
     "data": {
      "image/png": "[encoded data removed]",
      "text/plain": [
       "<Figure size 640x480 with 2 Axes>"
      ]
     },
     "metadata": {},
     "output_type": "display_data"
    }
   ],
   "source": [
    "corr_matrix, p_values = spearmanr(XY_data[:-1])\n",
    "p_value_df = pd.DataFrame(p_values, index=XY_data.columns, columns=XY_data.columns)\n",
    "sns.heatmap(p_value_df,annot=True,cbar_kws={'label': 'P-value Korelasi Spearman'})\n",
    "plt.title('P-value Korelasi Spearman Antar Variabel')\n",
    "\n",
    "plt.savefig(\"heatmap_pval.png\", dpi=300, bbox_inches='tight')  # Saves as PNG"
   ]
  },
  {
   "cell_type": "code",
   "execution_count": 24,
   "id": "8059934f-1aac-4832-93db-7627479cec96",
   "metadata": {},
   "outputs": [],
   "source": [
    "# XY_data.to_csv('data_skripsi.csv')"
   ]
  },
  {
   "cell_type": "markdown",
   "id": "6b3a3dfc-4332-4728-8402-19706f410749",
   "metadata": {
    "jp-MarkdownHeadingCollapsed": true
   },
   "source": [
    "bawahnya gw ilangin karena gaada y lagi (run out of y) -> log ret udah gada lagi."
   ]
  },
  {
   "cell_type": "code",
   "execution_count": 25,
   "id": "1bf87054-09ff-41b6-939b-bbe00b8d888e",
   "metadata": {
    "scrolled": true
   },
   "outputs": [],
   "source": [
    "XY_data.index = df.open_time.iloc[10387-10338:]"
   ]
  },
  {
   "cell_type": "code",
   "execution_count": 26,
   "id": "1edb3615-6529-4113-8d66-23093899e32b",
   "metadata": {},
   "outputs": [
    {
     "data": {
      "text/plain": [
       "(10337, 6)"
      ]
     },
     "execution_count": 26,
     "metadata": {},
     "output_type": "execute_result"
    }
   ],
   "source": [
    "dataX = XY_data.iloc[:-1,:-1]\n",
    "dataY = XY_data.iloc[5:-1,-1]\n",
    "dataX.shape"
   ]
  },
  {
   "cell_type": "code",
   "execution_count": 27,
   "id": "92902d2a-44de-4d95-86f7-dd33d05e11aa",
   "metadata": {},
   "outputs": [
    {
     "data": {
      "text/plain": [
       "(10332,)"
      ]
     },
     "execution_count": 27,
     "metadata": {},
     "output_type": "execute_result"
    }
   ],
   "source": [
    "dataY.shape"
   ]
  },
  {
   "cell_type": "markdown",
   "id": "79c5a344-4031-422b-b95a-ffff0fa2e249",
   "metadata": {},
   "source": [
    "## Setting the Training and Testing Data"
   ]
  },
  {
   "cell_type": "code",
   "execution_count": 28,
   "id": "6c14d015-700b-41e1-ac4c-8eb3d009e9cc",
   "metadata": {
    "scrolled": true
   },
   "outputs": [
    {
     "name": "stdout",
     "output_type": "stream",
     "text": [
      "(7749, 6) (7743,)\n"
     ]
    }
   ],
   "source": [
    "X_train = dataX[:7749].values.astype('float32')\n",
    "y_train = dataY[:7749-6].values.astype('float32')\n",
    "print(X_train.shape,y_train.shape)"
   ]
  },
  {
   "cell_type": "code",
   "execution_count": 29,
   "id": "a76e7b65-cb4c-41af-81cd-d955c93c8d9a",
   "metadata": {},
   "outputs": [],
   "source": [
    "X_train_modified = []\n",
    "\n",
    "for i in range(len(X_train)-6):\n",
    "    X_train_modified.append(X_train[i:i+6])"
   ]
  },
  {
   "cell_type": "code",
   "execution_count": 30,
   "id": "37ccbe3f-cd97-4519-9691-138c897d74e5",
   "metadata": {},
   "outputs": [],
   "source": [
    "X_train_tensor = torch.from_numpy(np.array(X_train_modified))\n",
    "y_train_tensor = torch.from_numpy(y_train).view(-1, 1) "
   ]
  },
  {
   "cell_type": "code",
   "execution_count": 31,
   "id": "b9fdd23d-609a-43cd-9e9c-b5a0a5179d36",
   "metadata": {},
   "outputs": [
    {
     "data": {
      "text/plain": [
       "torch.Size([7743, 6, 6])"
      ]
     },
     "execution_count": 31,
     "metadata": {},
     "output_type": "execute_result"
    }
   ],
   "source": [
    "X_train_tensor.shape"
   ]
  },
  {
   "cell_type": "code",
   "execution_count": 32,
   "id": "5bf1f65a-2be4-4061-9dc5-a89f32881da4",
   "metadata": {},
   "outputs": [
    {
     "data": {
      "text/plain": [
       "torch.Size([7743, 1])"
      ]
     },
     "execution_count": 32,
     "metadata": {},
     "output_type": "execute_result"
    }
   ],
   "source": [
    "y_train_tensor.shape"
   ]
  },
  {
   "cell_type": "code",
   "execution_count": 33,
   "id": "4f05aeac-fcab-40b0-845d-e489ed33be8c",
   "metadata": {},
   "outputs": [
    {
     "name": "stdout",
     "output_type": "stream",
     "text": [
      "(2588, 6) (2583,)\n"
     ]
    }
   ],
   "source": [
    "X_test = dataX[7749:].values.astype('float32')\n",
    "y_test = dataY[7749:].values.astype('float32')\n",
    "print(X_test.shape,y_test.shape)"
   ]
  },
  {
   "cell_type": "code",
   "execution_count": 34,
   "id": "d389b19f-d300-4e99-8af7-f41d5774cd67",
   "metadata": {},
   "outputs": [],
   "source": [
    "X_test_modified = []\n",
    "\n",
    "for i in range(len(X_test)-5):\n",
    "    X_test_modified.append(X_test[i:i+6])"
   ]
  },
  {
   "cell_type": "code",
   "execution_count": 35,
   "id": "7133d347-3ec6-4087-b1b3-501f9862c578",
   "metadata": {},
   "outputs": [],
   "source": [
    "X_test_tensor = torch.from_numpy(np.array(X_test_modified))\n",
    "y_test_tensor = torch.from_numpy(y_test).view(-1, 1) "
   ]
  },
  {
   "cell_type": "code",
   "execution_count": 36,
   "id": "b6d171b6-acdb-4552-bd38-cc36733c5878",
   "metadata": {},
   "outputs": [
    {
     "name": "stdout",
     "output_type": "stream",
     "text": [
      "torch.Size([2583, 6, 6]) torch.Size([2583, 1])\n"
     ]
    }
   ],
   "source": [
    "print(X_test_tensor.shape,y_test_tensor.shape)"
   ]
  },
  {
   "cell_type": "code",
   "execution_count": 37,
   "id": "81e3c168-5f04-4d04-9500-0af2d2624902",
   "metadata": {},
   "outputs": [],
   "source": [
    "X_train_check = dataX[:7749]#.values.astype('float32')\n",
    "y_train_check = dataY[:7749-5]#.values.astype('float32')\n",
    "X_test_check = dataX[7749:]#.values.astype('float32')\n",
    "y_test_check = dataY[7749:]#.values.astype('float32')"
   ]
  },
  {
   "cell_type": "code",
   "execution_count": 38,
   "id": "36981809-0b08-4937-9057-71f7e18b0238",
   "metadata": {
    "scrolled": true
   },
   "outputs": [
    {
     "data": {
      "text/html": [
       "<div>\n",
       "<style scoped>\n",
       "    .dataframe tbody tr th:only-of-type {\n",
       "        vertical-align: middle;\n",
       "    }\n",
       "\n",
       "    .dataframe tbody tr th {\n",
       "        vertical-align: top;\n",
       "    }\n",
       "\n",
       "    .dataframe thead th {\n",
       "        text-align: right;\n",
       "    }\n",
       "</style>\n",
       "<table border=\"1\" class=\"dataframe\">\n",
       "  <thead>\n",
       "    <tr style=\"text-align: right;\">\n",
       "      <th></th>\n",
       "      <th>log_return</th>\n",
       "      <th>rsi14</th>\n",
       "      <th>rsi21</th>\n",
       "      <th>BB30</th>\n",
       "      <th>BB31</th>\n",
       "      <th>MACD</th>\n",
       "    </tr>\n",
       "    <tr>\n",
       "      <th>open_time</th>\n",
       "      <th></th>\n",
       "      <th></th>\n",
       "      <th></th>\n",
       "      <th></th>\n",
       "      <th></th>\n",
       "      <th></th>\n",
       "    </tr>\n",
       "  </thead>\n",
       "  <tbody>\n",
       "    <tr>\n",
       "      <th>2023-07-27 19:00:00</th>\n",
       "      <td>-0.004429</td>\n",
       "      <td>50.069085</td>\n",
       "      <td>48.036260</td>\n",
       "      <td>0.568400</td>\n",
       "      <td>0.550972</td>\n",
       "      <td>3.240137</td>\n",
       "    </tr>\n",
       "    <tr>\n",
       "      <th>2023-07-27 23:00:00</th>\n",
       "      <td>-0.004174</td>\n",
       "      <td>45.110592</td>\n",
       "      <td>45.060578</td>\n",
       "      <td>0.425759</td>\n",
       "      <td>0.413731</td>\n",
       "      <td>2.234370</td>\n",
       "    </tr>\n",
       "    <tr>\n",
       "      <th>2023-07-28 03:00:00</th>\n",
       "      <td>0.000188</td>\n",
       "      <td>45.372689</td>\n",
       "      <td>45.220869</td>\n",
       "      <td>0.436982</td>\n",
       "      <td>0.434348</td>\n",
       "      <td>1.542062</td>\n",
       "    </tr>\n",
       "    <tr>\n",
       "      <th>2023-07-28 07:00:00</th>\n",
       "      <td>0.000935</td>\n",
       "      <td>46.734407</td>\n",
       "      <td>46.042634</td>\n",
       "      <td>0.478325</td>\n",
       "      <td>0.474318</td>\n",
       "      <td>1.167708</td>\n",
       "    </tr>\n",
       "    <tr>\n",
       "      <th>2023-07-28 11:00:00</th>\n",
       "      <td>-0.001876</td>\n",
       "      <td>44.346604</td>\n",
       "      <td>44.632536</td>\n",
       "      <td>0.414059</td>\n",
       "      <td>0.405847</td>\n",
       "      <td>0.675838</td>\n",
       "    </tr>\n",
       "    <tr>\n",
       "      <th>...</th>\n",
       "      <td>...</td>\n",
       "      <td>...</td>\n",
       "      <td>...</td>\n",
       "      <td>...</td>\n",
       "      <td>...</td>\n",
       "      <td>...</td>\n",
       "    </tr>\n",
       "    <tr>\n",
       "      <th>2024-09-30 07:00:00</th>\n",
       "      <td>-0.010468</td>\n",
       "      <td>43.726106</td>\n",
       "      <td>49.227030</td>\n",
       "      <td>0.347818</td>\n",
       "      <td>0.345992</td>\n",
       "      <td>-6.469585</td>\n",
       "    </tr>\n",
       "    <tr>\n",
       "      <th>2024-09-30 11:00:00</th>\n",
       "      <td>0.003062</td>\n",
       "      <td>46.236617</td>\n",
       "      <td>50.622382</td>\n",
       "      <td>0.405491</td>\n",
       "      <td>0.412349</td>\n",
       "      <td>-6.855071</td>\n",
       "    </tr>\n",
       "    <tr>\n",
       "      <th>2024-09-30 15:00:00</th>\n",
       "      <td>-0.003316</td>\n",
       "      <td>43.949577</td>\n",
       "      <td>49.088132</td>\n",
       "      <td>0.336007</td>\n",
       "      <td>0.340391</td>\n",
       "      <td>-7.393437</td>\n",
       "    </tr>\n",
       "    <tr>\n",
       "      <th>2024-09-30 19:00:00</th>\n",
       "      <td>-0.012606</td>\n",
       "      <td>36.598073</td>\n",
       "      <td>43.828611</td>\n",
       "      <td>0.080785</td>\n",
       "      <td>0.101049</td>\n",
       "      <td>-9.526301</td>\n",
       "    </tr>\n",
       "    <tr>\n",
       "      <th>2024-09-30 23:00:00</th>\n",
       "      <td>-0.000216</td>\n",
       "      <td>36.486268</td>\n",
       "      <td>43.744894</td>\n",
       "      <td>0.044491</td>\n",
       "      <td>0.101339</td>\n",
       "      <td>-10.459905</td>\n",
       "    </tr>\n",
       "  </tbody>\n",
       "</table>\n",
       "<p>2588 rows × 6 columns</p>\n",
       "</div>"
      ],
      "text/plain": [
       "                     log_return      rsi14      rsi21      BB30      BB31  \\\n",
       "open_time                                                                   \n",
       "2023-07-27 19:00:00   -0.004429  50.069085  48.036260  0.568400  0.550972   \n",
       "2023-07-27 23:00:00   -0.004174  45.110592  45.060578  0.425759  0.413731   \n",
       "2023-07-28 03:00:00    0.000188  45.372689  45.220869  0.436982  0.434348   \n",
       "2023-07-28 07:00:00    0.000935  46.734407  46.042634  0.478325  0.474318   \n",
       "2023-07-28 11:00:00   -0.001876  44.346604  44.632536  0.414059  0.405847   \n",
       "...                         ...        ...        ...       ...       ...   \n",
       "2024-09-30 07:00:00   -0.010468  43.726106  49.227030  0.347818  0.345992   \n",
       "2024-09-30 11:00:00    0.003062  46.236617  50.622382  0.405491  0.412349   \n",
       "2024-09-30 15:00:00   -0.003316  43.949577  49.088132  0.336007  0.340391   \n",
       "2024-09-30 19:00:00   -0.012606  36.598073  43.828611  0.080785  0.101049   \n",
       "2024-09-30 23:00:00   -0.000216  36.486268  43.744894  0.044491  0.101339   \n",
       "\n",
       "                          MACD  \n",
       "open_time                       \n",
       "2023-07-27 19:00:00   3.240137  \n",
       "2023-07-27 23:00:00   2.234370  \n",
       "2023-07-28 03:00:00   1.542062  \n",
       "2023-07-28 07:00:00   1.167708  \n",
       "2023-07-28 11:00:00   0.675838  \n",
       "...                        ...  \n",
       "2024-09-30 07:00:00  -6.469585  \n",
       "2024-09-30 11:00:00  -6.855071  \n",
       "2024-09-30 15:00:00  -7.393437  \n",
       "2024-09-30 19:00:00  -9.526301  \n",
       "2024-09-30 23:00:00 -10.459905  \n",
       "\n",
       "[2588 rows x 6 columns]"
      ]
     },
     "execution_count": 38,
     "metadata": {},
     "output_type": "execute_result"
    }
   ],
   "source": [
    "X_test_check"
   ]
  },
  {
   "cell_type": "markdown",
   "id": "f00c2f0d-a1c2-4462-8824-1a1332ea4532",
   "metadata": {},
   "source": [
    "# Setting Batch Size"
   ]
  },
  {
   "cell_type": "code",
   "execution_count": 39,
   "id": "5cdca6d4-34fc-4374-a3ae-95753efb81be",
   "metadata": {},
   "outputs": [],
   "source": [
    "from torch.utils.data import Dataset, DataLoader\n",
    "\n",
    "class CustomDataset(Dataset):\n",
    "    def __init__(self, X, y):\n",
    "        self.X = X\n",
    "        self.y = y\n",
    "\n",
    "    def __len__(self):\n",
    "        return len(self.X)\n",
    "\n",
    "    def __getitem__(self, idx):\n",
    "        return self.X[idx], self.y[idx]"
   ]
  },
  {
   "cell_type": "code",
   "execution_count": 40,
   "id": "671ddcf9-c2f1-4002-80df-1b1b4cf278f1",
   "metadata": {},
   "outputs": [],
   "source": [
    "train_dataset = CustomDataset(X_train_tensor, y_train_tensor)\n",
    "test_dataset = CustomDataset(X_test_tensor, y_test_tensor)"
   ]
  },
  {
   "cell_type": "markdown",
   "id": "1a0b42f1-2eb1-43f8-8f70-cd65d6604f8d",
   "metadata": {},
   "source": [
    "# Setting Models"
   ]
  },
  {
   "cell_type": "markdown",
   "id": "1fa0c2f6-a21f-4ad2-8b0a-cbdd0af9cc16",
   "metadata": {},
   "source": [
    "### <span style=\"color:red; font-size:20px; font-weight:bold;\"> ⚠️ IMPORTANT: Adjust the Model According to the Assignment! </span>\n"
   ]
  },
  {
   "cell_type": "code",
   "execution_count": 41,
   "id": "228d177e-edaf-4530-a058-e68f83ad3e01",
   "metadata": {},
   "outputs": [],
   "source": [
    "batch_size = 16  # Adjusting Batch Size\n",
    "\n",
    "train_loader = DataLoader(train_dataset, batch_size=batch_size, shuffle=False)\n",
    "test_loader = DataLoader(test_dataset, batch_size=batch_size, shuffle=False)"
   ]
  },
  {
   "cell_type": "code",
   "execution_count": 42,
   "id": "c5a0c368-03cc-4446-8275-f61c09fea265",
   "metadata": {},
   "outputs": [],
   "source": [
    "epochs = 50 # adjust epoch\n",
    "hidden_size1 = 64 # adjust layer 1 size\n",
    "hidden_size2 = 32 # adjust layer 2 size\n",
    "hidden_size3 = 16 # adjust layer 3 size"
   ]
  },
  {
   "cell_type": "code",
   "execution_count": 43,
   "id": "ac00109a-8787-4ccb-af1a-ddf70c38cd64",
   "metadata": {},
   "outputs": [],
   "source": [
    "class BidirectionalTestModel(nn.Module):\n",
    "    def __init__(self, input_size=X_train_tensor.shape[-1], \n",
    "                 hidden_size_1=hidden_size1, hidden_size_2=hidden_size2, \n",
    "                 hidden_size_3=hidden_size3, output_size=1):\n",
    "        super(BidirectionalTestModel, self).__init__()\n",
    "        \n",
    "        # First bidirectional GRU layer\n",
    "        self.layer1 = nn.LSTM(input_size=input_size, \n",
    "                             hidden_size=hidden_size_1,\n",
    "                             batch_first=True,\n",
    "                             bidirectional=True)  # Set bidirectional=True\n",
    "        \n",
    "        # Second bidirectional GRU layer\n",
    "        self.layer2 = nn.LSTM(input_size=hidden_size_1 * 2,  # Double the input size\n",
    "                             hidden_size=hidden_size_2,\n",
    "                             batch_first=True,\n",
    "                             bidirectional=True)  # Set bidirectional=True\n",
    "        \n",
    "        # Third bidirectional LSTM layer\n",
    "        self.layer3 = nn.LSTM(input_size=hidden_size_2 * 2,  # Double the input size\n",
    "                              hidden_size=hidden_size_3,\n",
    "                              batch_first=True,\n",
    "                              bidirectional=True)  # Set bidirectional=True\n",
    "        \n",
    "        # Final linear layer\n",
    "        # Input size is doubled because of bidirectional RNN\n",
    "        self.fc = nn.Linear(hidden_size_3 * 2, output_size)\n",
    "        \n",
    "    def forward(self, x):\n",
    "        # Reshape input if it's not in the right format\n",
    "        if len(x.shape) == 2:\n",
    "            x = x.unsqueeze(1)  # Add sequence length dimension\n",
    "            \n",
    "        # First bidirectional GRU layer\n",
    "        out, _ = self.layer1(x)\n",
    "        \n",
    "        # Second bidirectional GRU layer\n",
    "        out, _ = self.layer2(out)\n",
    "        \n",
    "        # Third bidirectional LSTM layer\n",
    "        out, _ = self.layer3(out)\n",
    "        \n",
    "        # Take the last output (forward and backward) and pass through final linear layer\n",
    "        # For bidirectional RNNs, the last hidden state is concatenated as [forward, backward]\n",
    "        out = self.fc(out[:, -1, :])\n",
    "        \n",
    "        return out"
   ]
  },
  {
   "cell_type": "code",
   "execution_count": 44,
   "id": "b4aac9ef-f829-440c-b0f7-c4e4654c6f21",
   "metadata": {
    "scrolled": true
   },
   "outputs": [],
   "source": [
    "# Set manual seed since nn.Parameter are randomly initialized\n",
    "torch.manual_seed(42)\n",
    "\n",
    "# Create an instance of the model (this is a subclass of nn.Module that contains nn.Parameter(s))\n",
    "model_0 = BidirectionalTestModel()\n",
    "\n",
    "# Check the nn.Parameter(s) within the nn.Module subclass we created\n",
    "# list(model_0.parameters())"
   ]
  },
  {
   "cell_type": "markdown",
   "id": "004f54b5-b619-4afe-96e0-8a0019af25c6",
   "metadata": {},
   "source": [
    "### Setting Loss Function and Optimizer for NN training"
   ]
  },
  {
   "cell_type": "code",
   "execution_count": 45,
   "id": "24b5d0a4-122a-419e-a253-28a2404f4829",
   "metadata": {},
   "outputs": [],
   "source": [
    "# custom loss\n",
    "class CustomLoss(nn.Module):\n",
    "    def __init__(self):\n",
    "        super(CustomLoss, self).__init__()\n",
    "\n",
    "    def forward(self, y_pred, y_true):\n",
    "        # Calculate absolute difference\n",
    "        absolute_error = torch.exp(y_true - y_pred)\n",
    "        \n",
    "        # Compute mean absolute error\n",
    "        loss = torch.mean(absolute_error)\n",
    "        \n",
    "        return loss\n",
    "\n",
    "class LogCoshLoss(nn.Module):\n",
    "    def __init__(self):\n",
    "        super(LogCoshLoss, self).__init__()\n",
    "\n",
    "    def forward(self, y_pred, y_true):\n",
    "        error = y_true - y_pred\n",
    "        loss = torch.log(torch.cosh(error))\n",
    "        return torch.mean(loss)\n",
    "\n",
    "class CauchyLoss(nn.Module):\n",
    "    def __init__(self, gamma=1.0):\n",
    "        super(CauchyLoss, self).__init__()\n",
    "        self.gamma = gamma\n",
    "\n",
    "    def forward(self, y_pred, y_true):\n",
    "        error = (y_true - y_pred) / self.gamma\n",
    "        loss = torch.log(1 + error ** 2)\n",
    "        return torch.mean(loss)\n",
    "\n",
    "# Usage\n",
    "criterion = CauchyLoss(gamma=1.0)"
   ]
  },
  {
   "cell_type": "code",
   "execution_count": 46,
   "id": "648f5023-4f50-4a86-91aa-b1386fc5120f",
   "metadata": {},
   "outputs": [],
   "source": [
    "# Create the loss function\n",
    "loss_fn =  CauchyLoss(gamma=0.000001)\n",
    "\n",
    "\n",
    "# Create the optimizer\n",
    "optimizer = torch.optim.Adam(params=model_0.parameters(), # parameters of target model to optimize\n",
    "                            lr=0.000001)"
   ]
  },
  {
   "cell_type": "code",
   "execution_count": 47,
   "id": "0bded62c-29e5-4680-b36f-365c43c1d936",
   "metadata": {},
   "outputs": [],
   "source": [
    "import time"
   ]
  },
  {
   "cell_type": "code",
   "execution_count": 48,
   "id": "f1887b6b-7c58-4057-b925-c4f3460a5087",
   "metadata": {
    "scrolled": true
   },
   "outputs": [
    {
     "name": "stdout",
     "output_type": "stream",
     "text": [
      "Epoch: 10.000000 | MSE Train Loss: 20.318524 | MSE Test Loss: 20.28436979835416\n",
      "Epoch: 20.000000 | MSE Train Loss: 19.482126 | MSE Test Loss: 19.379942105140216\n",
      "Epoch: 30.000000 | MSE Train Loss: 19.138149 | MSE Test Loss: 18.993909935892365\n",
      "Epoch: 40.000000 | MSE Train Loss: 18.936344 | MSE Test Loss: 18.878474600521134\n",
      "Epoch: 50.000000 | MSE Train Loss: 18.860990 | MSE Test Loss: 18.657279214741273\n",
      "\n",
      "Total training time: 125.29 seconds, batch size is 16 and epoch is 50\n"
     ]
    }
   ],
   "source": [
    "torch.manual_seed(42)\n",
    "# Create empty loss lists to track values\n",
    "train_loss_values = []\n",
    "test_loss_values = []\n",
    "epoch_count = []\n",
    "\n",
    "epoch_start_time = time.time()  # Start time for total training\n",
    "\n",
    "for epoch in range(1,epochs+1):\n",
    "    ### Training\n",
    "    model_0.train()  # Put model in training mode\n",
    "    train_loss = 0  # Track total training loss for the epoch\n",
    "    iteration = 0\n",
    "    # Iterate over batches in the training DataLoader\n",
    "    for X_batch, y_batch in train_loader:\n",
    "        # 1. Forward pass on train data\n",
    "        y_pred = model_0(X_batch)\n",
    "\n",
    "        # 2. Calculate the loss\n",
    "        loss = loss_fn(y_pred, y_batch)\n",
    "\n",
    "        # 3. Zero grad of the optimizer clears the gradients of all optimized tensors.\n",
    "        optimizer.zero_grad()\n",
    "\n",
    "        # 4. Loss backwards\n",
    "        # This function computes the gradients of the loss with respect to the model parameters using backpropagation.\n",
    "        loss.backward()\n",
    "\n",
    "        # 5. Progress the optimizer\n",
    "        \n",
    "        optimizer.step()\n",
    "\n",
    "        # Accumulate the training loss for the epoch\n",
    "        train_loss += loss.item()\n",
    "\n",
    "    # Calculate average training loss for the epoch\n",
    "    train_loss /= len(train_loader)\n",
    "\n",
    "    ### Testing\n",
    "    model_0.eval()  # Put the model in evaluation mode\n",
    "    y_preds = []\n",
    "    test_loss = 0  # Track total testing loss for the epoch\n",
    "\n",
    "    with torch.inference_mode():\n",
    "        # Iterate over batches in the test DataLoader\n",
    "        for X_batch, y_batch in test_loader:\n",
    "            # 1. Forward pass on test data\n",
    "            test_pred = model_0(X_batch)\n",
    "\n",
    "            # 2. Calculate loss on test data\n",
    "            test_loss += loss_fn(test_pred, y_batch).item()\n",
    "\n",
    "        # Calculate average testing loss for the epoch\n",
    "        test_loss /= len(test_loader)\n",
    "    \n",
    "    epoch_time = time.time() - epoch_start_time\n",
    "\n",
    "    # Print out what's happening\n",
    "    if epoch % 10 == 0:\n",
    "        epoch_count.append(epoch)\n",
    "        train_loss_values.append(train_loss)\n",
    "        test_loss_values.append(test_loss)\n",
    "        print(f\"Epoch: {epoch:.6f} | MSE Train Loss: {train_loss:.6f} | MSE Test Loss: {test_loss}\")\n",
    "\n",
    "total_time = time.time() - epoch_start_time\n",
    "print(f\"\\nTotal training time: {total_time:.2f} seconds, batch size is {batch_size} and epoch is {epochs}\")"
   ]
  },
  {
   "cell_type": "code",
   "execution_count": 49,
   "id": "2ead1997-770a-42af-84e9-60c749932df7",
   "metadata": {},
   "outputs": [
    {
     "name": "stdout",
     "output_type": "stream",
     "text": [
      "Predictions shape: torch.Size([7743, 1])\n"
     ]
    }
   ],
   "source": [
    "# Make predictions\n",
    "model_0.eval()\n",
    "y_train_preds = []\n",
    "\n",
    "with torch.inference_mode():\n",
    "    for X_batch, _ in train_loader:\n",
    "        y_pred = model_0(X_batch)\n",
    "        y_train_preds.append(y_pred)\n",
    "\n",
    "# Concatenate all predictions into a single tensor\n",
    "y_train_preds = torch.cat(y_train_preds)\n",
    "\n",
    "print(\"Predictions shape:\", y_train_preds.shape)  # Should be (2583, 1)"
   ]
  },
  {
   "cell_type": "code",
   "execution_count": 50,
   "id": "bf055626-4505-4699-b818-c1c093fd5ec0",
   "metadata": {},
   "outputs": [
    {
     "name": "stdout",
     "output_type": "stream",
     "text": [
      "Predictions shape: torch.Size([2583, 1])\n"
     ]
    }
   ],
   "source": [
    "# Make predictions\n",
    "model_0.eval()\n",
    "y_preds = []\n",
    "\n",
    "with torch.inference_mode():\n",
    "    for X_batch, _ in test_loader:\n",
    "        y_pred = model_0(X_batch)\n",
    "        y_preds.append(y_pred)\n",
    "\n",
    "# Concatenate all predictions into a single tensor\n",
    "y_preds = torch.cat(y_preds)\n",
    "\n",
    "print(\"Predictions shape:\", y_preds.shape)  # Should be (2583, 1)"
   ]
  },
  {
   "cell_type": "code",
   "execution_count": 51,
   "id": "e8e7b0ad-bba9-48b4-8bf6-d9b2efc34006",
   "metadata": {},
   "outputs": [],
   "source": [
    "prediction_train_np = y_train_preds.numpy()\n",
    "prediction_np = y_preds.numpy()"
   ]
  },
  {
   "cell_type": "code",
   "execution_count": 52,
   "id": "2307d455-9600-4467-9bfe-937f606d7ab6",
   "metadata": {},
   "outputs": [],
   "source": [
    "# model train vs test\n",
    "y_train_np = y_train.reshape(prediction_train_np.shape[0],1)\n",
    "y_test_np = y_test.reshape(prediction_np.shape[0],1)"
   ]
  },
  {
   "cell_type": "code",
   "execution_count": 53,
   "id": "3f120b02-a6af-4c30-9f70-44a27385d3a6",
   "metadata": {},
   "outputs": [],
   "source": [
    "epoch_list = list(range(0,epochs,10))"
   ]
  },
  {
   "cell_type": "code",
   "execution_count": 54,
   "id": "09f3cd11-7306-457b-8114-d84c4e816791",
   "metadata": {},
   "outputs": [],
   "source": [
    "import matplotlib.pyplot as plt"
   ]
  },
  {
   "cell_type": "code",
   "execution_count": 55,
   "id": "2ad166ac-f0db-4462-8567-854511f26fad",
   "metadata": {},
   "outputs": [
    {
     "data": {
      "image/png": "[encoded data removed]",
      "text/plain": [
       "<Figure size 640x480 with 1 Axes>"
      ]
     },
     "metadata": {},
     "output_type": "display_data"
    }
   ],
   "source": [
    "epoch_list = list(range(10,1+epochs,10))\n",
    "\n",
    "plt.plot(epoch_list,train_loss_values,label='train loss',color='blue')\n",
    "plt.plot(epoch_list,test_loss_values,label='test loss',color = 'red')\n",
    "plt.xlabel('Epoch')\n",
    "plt.ylabel('MSE')\n",
    "plt.title('Train vs Test Loss BiDirectional')\n",
    "\n",
    "plt.legend()\n",
    "\n",
    "plt.show()"
   ]
  },
  {
   "cell_type": "markdown",
   "id": "931d7bc9-0c84-44be-a515-4e441ed83b01",
   "metadata": {},
   "source": [
    "# Combining return and data"
   ]
  },
  {
   "cell_type": "markdown",
   "id": "d8f3f9a3-6272-41c0-8b4c-dfe62225584c",
   "metadata": {},
   "source": [
    "## training data"
   ]
  },
  {
   "cell_type": "code",
   "execution_count": 56,
   "id": "9c9d8157-44d9-4935-93d1-c22d40315508",
   "metadata": {},
   "outputs": [],
   "source": [
    "close_train =  df.loc[X_train_check.iloc[6:].index].close.values"
   ]
  },
  {
   "cell_type": "code",
   "execution_count": 57,
   "id": "65d2e5a9-6128-4023-a797-bc3db7df6efe",
   "metadata": {},
   "outputs": [],
   "source": [
    "close_train_t1 = df.loc[X_train_check.iloc[5:-1].index].close.values\n",
    "close_train_prediction = np.log(close_train_t1)+prediction_train_np.reshape(7743)\n",
    "predicted_price_train = np.exp(close_train_prediction)"
   ]
  },
  {
   "cell_type": "code",
   "execution_count": 58,
   "id": "78213d3a-6a6f-4bf7-891a-36d15f635414",
   "metadata": {},
   "outputs": [
    {
     "data": {
      "text/plain": [
       "(7743,)"
      ]
     },
     "execution_count": 58,
     "metadata": {},
     "output_type": "execute_result"
    }
   ],
   "source": [
    "predicted_price_train.shape"
   ]
  },
  {
   "cell_type": "code",
   "execution_count": 59,
   "id": "d9355975-05de-49d8-b538-3932f74bfb0d",
   "metadata": {},
   "outputs": [
    {
     "name": "stdout",
     "output_type": "stream",
     "text": [
      "[1874.74 1873.4  1873.39 ... 2595.05 2594.49 2601.49]\n"
     ]
    },
    {
     "data": {
      "text/plain": [
       "(2583,)"
      ]
     },
     "execution_count": 59,
     "metadata": {},
     "output_type": "execute_result"
    }
   ],
   "source": [
    "close_real = df.loc[df.open_time>='2023-7-28 19:00'].close.values # real data\n",
    "print(close_real)\n",
    "close_real.shape"
   ]
  },
  {
   "cell_type": "code",
   "execution_count": 60,
   "id": "a809baeb-4808-4028-a7dd-fc11934bbf4b",
   "metadata": {},
   "outputs": [],
   "source": [
    "# first y_hat that we get is to predicting return \n",
    "close_pred = np.log(df.loc[df.open_time>='2023-7-28 15:00'].close.values[:-1])\n",
    "close_pred_logged = close_pred.reshape(close_pred.shape[0],1) + prediction_np"
   ]
  },
  {
   "cell_type": "code",
   "execution_count": 61,
   "id": "9487f95e-b74f-401a-aa86-8c3b100a0f7c",
   "metadata": {},
   "outputs": [
    {
     "data": {
      "text/plain": [
       "(2583, 1)"
      ]
     },
     "execution_count": 61,
     "metadata": {},
     "output_type": "execute_result"
    }
   ],
   "source": [
    "close_hat = np.exp(close_pred_logged)\n",
    "close_hat.shape"
   ]
  },
  {
   "cell_type": "code",
   "execution_count": 62,
   "id": "5cb8ca70-8658-4f5b-a91b-8514bf135054",
   "metadata": {},
   "outputs": [
    {
     "data": {
      "text/plain": [
       "(2583, 1)"
      ]
     },
     "execution_count": 62,
     "metadata": {},
     "output_type": "execute_result"
    }
   ],
   "source": [
    "prediction_np.shape"
   ]
  },
  {
   "cell_type": "code",
   "execution_count": 63,
   "id": "54964d47-18de-4c26-ad26-292f9b7d0239",
   "metadata": {},
   "outputs": [
    {
     "data": {
      "text/plain": [
       "2583"
      ]
     },
     "execution_count": 63,
     "metadata": {},
     "output_type": "execute_result"
    }
   ],
   "source": [
    "y_test.shape[0]"
   ]
  },
  {
   "cell_type": "code",
   "execution_count": 64,
   "id": "2a44974a-3443-4fcb-b3c4-d26325413653",
   "metadata": {},
   "outputs": [],
   "source": [
    "from sklearn.metrics import mean_squared_error as mse\n",
    "from sklearn.metrics import root_mean_squared_error as rmse\n",
    "from sklearn.metrics import mean_absolute_error as mae\n",
    "from sklearn.metrics import mean_absolute_percentage_error as mape"
   ]
  },
  {
   "cell_type": "markdown",
   "id": "9801d172-3da1-4f11-a499-7c6d1285735c",
   "metadata": {},
   "source": [
    "# return error"
   ]
  },
  {
   "cell_type": "markdown",
   "id": "2a22c702-b6ad-4223-a715-5d2dc0788ddf",
   "metadata": {},
   "source": [
    "## train data return error"
   ]
  },
  {
   "cell_type": "code",
   "execution_count": 65,
   "id": "de116dd3-ccd9-4a09-94b9-1ddec0fb1cfb",
   "metadata": {},
   "outputs": [
    {
     "data": {
      "text/plain": [
       "0.000869830371811986"
      ]
     },
     "execution_count": 65,
     "metadata": {},
     "output_type": "execute_result"
    }
   ],
   "source": [
    "mse(prediction_train_np,y_train)"
   ]
  },
  {
   "cell_type": "code",
   "execution_count": 66,
   "id": "6c480469-9635-47a8-b26d-b0cc3115b7c0",
   "metadata": {},
   "outputs": [
    {
     "data": {
      "text/plain": [
       "0.02949288673698902"
      ]
     },
     "execution_count": 66,
     "metadata": {},
     "output_type": "execute_result"
    }
   ],
   "source": [
    "rmse(prediction_train_np,y_train)"
   ]
  },
  {
   "cell_type": "code",
   "execution_count": 67,
   "id": "50b3d2fb-be4b-4ff2-a652-7fc7472513c5",
   "metadata": {},
   "outputs": [
    {
     "data": {
      "text/plain": [
       "0.021074336022138596"
      ]
     },
     "execution_count": 67,
     "metadata": {},
     "output_type": "execute_result"
    }
   ],
   "source": [
    "mae(prediction_train_np,y_train)"
   ]
  },
  {
   "cell_type": "code",
   "execution_count": 68,
   "id": "e578eb40-60b6-4811-acae-8bdc11b88839",
   "metadata": {},
   "outputs": [
    {
     "data": {
      "text/plain": [
       "4.657577991485596"
      ]
     },
     "execution_count": 68,
     "metadata": {},
     "output_type": "execute_result"
    }
   ],
   "source": [
    "mape(prediction_train_np,y_train)"
   ]
  },
  {
   "cell_type": "markdown",
   "id": "f6850cbe-6cfd-47ae-9c93-ae704b502f85",
   "metadata": {},
   "source": [
    "## train data price error"
   ]
  },
  {
   "cell_type": "code",
   "execution_count": 69,
   "id": "2fa9c0a3-8cf7-4dd8-9645-255feb259a45",
   "metadata": {},
   "outputs": [
    {
     "data": {
      "text/plain": [
       "5757.86131920863"
      ]
     },
     "execution_count": 69,
     "metadata": {},
     "output_type": "execute_result"
    }
   ],
   "source": [
    "mse(predicted_price_train,close_train)"
   ]
  },
  {
   "cell_type": "code",
   "execution_count": 70,
   "id": "41390491-46bb-4314-8db9-7b36c3e7026e",
   "metadata": {},
   "outputs": [
    {
     "data": {
      "text/plain": [
       "75.88057273906563"
      ]
     },
     "execution_count": 70,
     "metadata": {},
     "output_type": "execute_result"
    }
   ],
   "source": [
    "rmse(predicted_price_train,close_train)"
   ]
  },
  {
   "cell_type": "code",
   "execution_count": 71,
   "id": "36892a70-0f7c-480d-8568-a5568cbd7ba6",
   "metadata": {},
   "outputs": [
    {
     "data": {
      "text/plain": [
       "43.43531614564359"
      ]
     },
     "execution_count": 71,
     "metadata": {},
     "output_type": "execute_result"
    }
   ],
   "source": [
    "mae(predicted_price_train,close_train)"
   ]
  },
  {
   "cell_type": "code",
   "execution_count": 72,
   "id": "67b50605-c3bf-4da6-a5e0-7717f6064a8e",
   "metadata": {},
   "outputs": [
    {
     "data": {
      "text/plain": [
       "0.020881646618522914"
      ]
     },
     "execution_count": 72,
     "metadata": {},
     "output_type": "execute_result"
    }
   ],
   "source": [
    "mape(predicted_price_train,close_train)"
   ]
  },
  {
   "cell_type": "markdown",
   "id": "ae983afc-2a20-488e-a6a5-25ca552642c3",
   "metadata": {},
   "source": [
    "## test data return error"
   ]
  },
  {
   "cell_type": "code",
   "execution_count": 73,
   "id": "b1c52fba-0310-4bda-9de9-7f1241a2daa1",
   "metadata": {},
   "outputs": [
    {
     "data": {
      "text/plain": [
       "0.0006458624266088009"
      ]
     },
     "execution_count": 73,
     "metadata": {},
     "output_type": "execute_result"
    }
   ],
   "source": [
    "mse(prediction_np,y_test)"
   ]
  },
  {
   "cell_type": "code",
   "execution_count": 74,
   "id": "9659725e-6b5b-4824-9c56-062330277bcf",
   "metadata": {},
   "outputs": [
    {
     "data": {
      "text/plain": [
       "0.02541382424533367"
      ]
     },
     "execution_count": 74,
     "metadata": {},
     "output_type": "execute_result"
    }
   ],
   "source": [
    "rmse(prediction_np,y_test)"
   ]
  },
  {
   "cell_type": "code",
   "execution_count": 75,
   "id": "516725c7-2f63-4e3d-a5f6-0d96ddd116cb",
   "metadata": {},
   "outputs": [
    {
     "data": {
      "text/plain": [
       "0.01865939237177372"
      ]
     },
     "execution_count": 75,
     "metadata": {},
     "output_type": "execute_result"
    }
   ],
   "source": [
    "mae(prediction_np,y_test)"
   ]
  },
  {
   "cell_type": "code",
   "execution_count": 76,
   "id": "15e95990-c182-4c5c-8810-12eb5e9dc69e",
   "metadata": {},
   "outputs": [
    {
     "data": {
      "text/plain": [
       "2.445185422897339"
      ]
     },
     "execution_count": 76,
     "metadata": {},
     "output_type": "execute_result"
    }
   ],
   "source": [
    "mape(prediction_np,y_test)"
   ]
  },
  {
   "cell_type": "markdown",
   "id": "b17f0315-1767-4efc-af8c-877b6a204b28",
   "metadata": {},
   "source": [
    "## test data price error"
   ]
  },
  {
   "cell_type": "code",
   "execution_count": 77,
   "id": "86898c8f-199e-473c-a939-0ebc941bd1dd",
   "metadata": {},
   "outputs": [
    {
     "data": {
      "text/plain": [
       "5876.424186200608"
      ]
     },
     "execution_count": 77,
     "metadata": {},
     "output_type": "execute_result"
    }
   ],
   "source": [
    "mse(close_real,close_hat)"
   ]
  },
  {
   "cell_type": "code",
   "execution_count": 78,
   "id": "c6ea175e-0877-4d9b-a113-6eca42a0e82c",
   "metadata": {},
   "outputs": [
    {
     "data": {
      "text/plain": [
       "76.65783838721653"
      ]
     },
     "execution_count": 78,
     "metadata": {},
     "output_type": "execute_result"
    }
   ],
   "source": [
    "rmse(close_real,close_hat)"
   ]
  },
  {
   "cell_type": "code",
   "execution_count": 79,
   "id": "eb28afe5-0571-41dd-8f44-eb9d261cb85d",
   "metadata": {
    "scrolled": true
   },
   "outputs": [
    {
     "data": {
      "text/plain": [
       "52.509155126680405"
      ]
     },
     "execution_count": 79,
     "metadata": {},
     "output_type": "execute_result"
    }
   ],
   "source": [
    "mae(close_real,close_hat)"
   ]
  },
  {
   "cell_type": "code",
   "execution_count": 80,
   "id": "91eb5dd2-681f-4525-9dec-fadbeb4b17e6",
   "metadata": {
    "scrolled": true
   },
   "outputs": [
    {
     "data": {
      "text/plain": [
       "0.018849640885241294"
      ]
     },
     "execution_count": 80,
     "metadata": {},
     "output_type": "execute_result"
    }
   ],
   "source": [
    "mape(close_real,close_hat)"
   ]
  },
  {
   "cell_type": "markdown",
   "id": "963afb62-dc1f-4fed-ad2a-27b0788400a2",
   "metadata": {},
   "source": [
    "## Confusion Matrix"
   ]
  },
  {
   "cell_type": "code",
   "execution_count": 81,
   "id": "e62594fc-2526-4c57-86b3-f5eaa5568e08",
   "metadata": {},
   "outputs": [],
   "source": [
    "pred_sign = [1 if i[0] > 0 else 0 for i in prediction_np]\n",
    "real_sign = [1 if i > 0 else 0 for i in y_test]"
   ]
  },
  {
   "cell_type": "code",
   "execution_count": 82,
   "id": "a272020f-5052-40ec-b011-fe6d28111de8",
   "metadata": {},
   "outputs": [],
   "source": [
    "from sklearn.metrics import confusion_matrix,accuracy_score,precision_score,recall_score,f1_score"
   ]
  },
  {
   "cell_type": "code",
   "execution_count": 83,
   "id": "76467eb8-1548-43d6-9db6-a34aba63be1e",
   "metadata": {},
   "outputs": [
    {
     "data": {
      "text/plain": [
       "array([[646, 651],\n",
       "       [610, 676]])"
      ]
     },
     "execution_count": 83,
     "metadata": {},
     "output_type": "execute_result"
    }
   ],
   "source": [
    "confusion_matrix(real_sign,pred_sign)"
   ]
  },
  {
   "cell_type": "code",
   "execution_count": 84,
   "id": "e620a26d-3e40-4da6-b451-3efc4e2fe406",
   "metadata": {},
   "outputs": [
    {
     "data": {
      "text/plain": [
       "0.5118079752226093"
      ]
     },
     "execution_count": 84,
     "metadata": {},
     "output_type": "execute_result"
    }
   ],
   "source": [
    "accuracy_score(real_sign,pred_sign)"
   ]
  },
  {
   "cell_type": "markdown",
   "id": "54fb701e-0d59-4bc7-812a-144b0ddc9291",
   "metadata": {},
   "source": [
    "# Plotting"
   ]
  },
  {
   "cell_type": "code",
   "execution_count": 85,
   "id": "bc27383a-1d56-415e-8bf2-47aadb2e0ee1",
   "metadata": {},
   "outputs": [],
   "source": [
    "train_date = X_train_check.iloc[6:].index\n",
    "test_date = XY_data.index[XY_data.index>='2023-7-28 19:00']"
   ]
  },
  {
   "cell_type": "code",
   "execution_count": 86,
   "id": "2cad1ed2-ec5d-4167-9d8c-f7e08241ffec",
   "metadata": {
    "scrolled": true
   },
   "outputs": [],
   "source": [
    "combined_date = np.concatenate((train_date,test_date))\n",
    "combined_return_pred = np.concatenate((prediction_train_np,prediction_np))\n",
    "combined_return_real = np.concatenate((y_train,y_test))"
   ]
  },
  {
   "cell_type": "code",
   "execution_count": 90,
   "id": "cdb668bf-e841-499d-97f7-82bb19fd7448",
   "metadata": {},
   "outputs": [
    {
     "data": {
      "image/png": "[encoded data removed]",
      "text/plain": [
       "<Figure size 640x480 with 1 Axes>"
      ]
     },
     "metadata": {},
     "output_type": "display_data"
    }
   ],
   "source": [
    "plt.plot(combined_date,combined_return_real, label = 'real',color='blue')\n",
    "\n",
    "plt.plot(combined_date,combined_return_pred,label = 'prediction',color='red')\n",
    "plt.axvline(test_date[0],color='green', linestyle='--', label='Start of Test Data')\n",
    "\n",
    "plt.xlabel(\n",
    "    'Time'\n",
    ")\n",
    "plt.ylabel('Log Return')\n",
    "# plt.plot(y_test, label = 'real')\n",
    "plt.title(\"Prediction vs Real Return ETH BiDirectional LSTM\")\n",
    "plt.legend()\n",
    "plt.show()"
   ]
  },
  {
   "cell_type": "code",
   "execution_count": 92,
   "id": "06147528-5810-4c51-b5e8-88a7665c046b",
   "metadata": {},
   "outputs": [],
   "source": [
    "combined_price_prediction = np.concatenate((predicted_price_train,close_hat.reshape(2583)))\n",
    "combined_real_price = np.concatenate((close_train,close_real))"
   ]
  },
  {
   "cell_type": "code",
   "execution_count": 93,
   "id": "505473f2-11d9-4322-a0b2-99d170bafae8",
   "metadata": {
    "scrolled": true
   },
   "outputs": [
    {
     "data": {
      "image/png": "[encoded data removed]",
      "text/plain": [
       "<Figure size 800x800 with 1 Axes>"
      ]
     },
     "metadata": {},
     "output_type": "display_data"
    }
   ],
   "source": [
    "plt.figure(figsize=(8,8))\n",
    "plt.plot(combined_date,combined_real_price, label = 'real',color='blue')\n",
    "\n",
    "plt.plot(combined_date,combined_price_prediction,label = 'prediction',color='red')\n",
    "plt.axvline(test_date[0],color='green', linestyle='--', label='Start of Test Data')\n",
    "\n",
    "plt.xlabel(\n",
    "    'Time'\n",
    ")\n",
    "plt.ylabel('Log Return')\n",
    "# plt.plot(y_test, label = 'real')\n",
    "plt.title(\"Prediction vs Real Price ETH BiDirectional LSTM\")\n",
    "plt.legend()\n",
    "plt.show()"
   ]
  },
  {
   "cell_type": "code",
   "execution_count": null,
   "id": "7a6a28ff-c024-41f7-8c40-f51a17798cdf",
   "metadata": {},
   "outputs": [],
   "source": []
  }
 ],
 "metadata": {
  "kernelspec": {
   "display_name": "Python 3 (ipykernel)",
   "language": "python",
   "name": "python3"
  },
  "language_info": {
   "codemirror_mode": {
    "name": "ipython",
    "version": 3
   },
   "file_extension": ".py",
   "mimetype": "text/x-python",
   "name": "python",
   "nbconvert_exporter": "python",
   "pygments_lexer": "ipython3",
   "version": "3.13.2"
  }
 },
 "nbformat": 4,
 "nbformat_minor": 5
}
